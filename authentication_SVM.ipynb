{
 "cells": [
  {
   "cell_type": "markdown",
   "metadata": {},
   "source": [
    "## Import Dataset"
   ]
  },
  {
   "cell_type": "code",
   "execution_count": 1,
   "metadata": {},
   "outputs": [
    {
     "name": "stdout",
     "output_type": "stream",
     "text": [
      "1372 records\n"
     ]
    },
    {
     "data": {
      "text/html": [
       "<div>\n",
       "<style scoped>\n",
       "    .dataframe tbody tr th:only-of-type {\n",
       "        vertical-align: middle;\n",
       "    }\n",
       "\n",
       "    .dataframe tbody tr th {\n",
       "        vertical-align: top;\n",
       "    }\n",
       "\n",
       "    .dataframe thead th {\n",
       "        text-align: right;\n",
       "    }\n",
       "</style>\n",
       "<table border=\"1\" class=\"dataframe\">\n",
       "  <thead>\n",
       "    <tr style=\"text-align: right;\">\n",
       "      <th></th>\n",
       "      <th>Variance</th>\n",
       "      <th>Skewness</th>\n",
       "      <th>Curtosis</th>\n",
       "      <th>Entropy</th>\n",
       "      <th>Class</th>\n",
       "    </tr>\n",
       "  </thead>\n",
       "  <tbody>\n",
       "    <tr>\n",
       "      <th>0</th>\n",
       "      <td>3.62160</td>\n",
       "      <td>8.6661</td>\n",
       "      <td>-2.8073</td>\n",
       "      <td>-0.44699</td>\n",
       "      <td>0</td>\n",
       "    </tr>\n",
       "    <tr>\n",
       "      <th>1</th>\n",
       "      <td>4.54590</td>\n",
       "      <td>8.1674</td>\n",
       "      <td>-2.4586</td>\n",
       "      <td>-1.46210</td>\n",
       "      <td>0</td>\n",
       "    </tr>\n",
       "    <tr>\n",
       "      <th>2</th>\n",
       "      <td>3.86600</td>\n",
       "      <td>-2.6383</td>\n",
       "      <td>1.9242</td>\n",
       "      <td>0.10645</td>\n",
       "      <td>0</td>\n",
       "    </tr>\n",
       "    <tr>\n",
       "      <th>3</th>\n",
       "      <td>3.45660</td>\n",
       "      <td>9.5228</td>\n",
       "      <td>-4.0112</td>\n",
       "      <td>-3.59440</td>\n",
       "      <td>0</td>\n",
       "    </tr>\n",
       "    <tr>\n",
       "      <th>4</th>\n",
       "      <td>0.32924</td>\n",
       "      <td>-4.4552</td>\n",
       "      <td>4.5718</td>\n",
       "      <td>-0.98880</td>\n",
       "      <td>0</td>\n",
       "    </tr>\n",
       "  </tbody>\n",
       "</table>\n",
       "</div>"
      ],
      "text/plain": [
       "   Variance  Skewness  Curtosis  Entropy  Class\n",
       "0   3.62160    8.6661   -2.8073 -0.44699      0\n",
       "1   4.54590    8.1674   -2.4586 -1.46210      0\n",
       "2   3.86600   -2.6383    1.9242  0.10645      0\n",
       "3   3.45660    9.5228   -4.0112 -3.59440      0\n",
       "4   0.32924   -4.4552    4.5718 -0.98880      0"
      ]
     },
     "execution_count": 1,
     "metadata": {},
     "output_type": "execute_result"
    }
   ],
   "source": [
    "import pandas as pd\n",
    "\n",
    "dataset = pd.read_csv(\n",
    "    'data/banknote_authentication.txt', \n",
    "    header=None, \n",
    "    names=['Variance', 'Skewness', 'Curtosis', 'Entropy', 'Class']\n",
    ")\n",
    "\n",
    "print(dataset.shape[0], 'records')\n",
    "dataset.head()"
   ]
  },
  {
   "cell_type": "markdown",
   "metadata": {},
   "source": [
    "## Data Preprocessing"
   ]
  },
  {
   "cell_type": "markdown",
   "metadata": {},
   "source": [
    "### Prepare features and labels"
   ]
  },
  {
   "cell_type": "code",
   "execution_count": 2,
   "metadata": {},
   "outputs": [],
   "source": [
    "X = dataset.loc[:, dataset.columns != 'Class']\n",
    "y = dataset['Class']"
   ]
  },
  {
   "cell_type": "markdown",
   "metadata": {},
   "source": [
    "### Split data into Training and Test sets"
   ]
  },
  {
   "cell_type": "code",
   "execution_count": 3,
   "metadata": {},
   "outputs": [
    {
     "name": "stdout",
     "output_type": "stream",
     "text": [
      "Training data: 1097\n",
      "Test data: 275\n"
     ]
    }
   ],
   "source": [
    "from sklearn.model_selection import train_test_split\n",
    "\n",
    "X_train, X_test, y_train, y_test = train_test_split(\n",
    "    X, y, test_size=0.2, random_state=0\n",
    ")\n",
    "\n",
    "print('Training data:', len(X_train))\n",
    "print('Test data:', len(X_test))"
   ]
  },
  {
   "cell_type": "markdown",
   "metadata": {},
   "source": [
    "### Feature scaling"
   ]
  },
  {
   "cell_type": "code",
   "execution_count": 4,
   "metadata": {},
   "outputs": [],
   "source": [
    "from sklearn.preprocessing import StandardScaler\n",
    "\n",
    "scaler = StandardScaler()\n",
    "\n",
    "X_train = scaler.fit_transform(X_train)\n",
    "X_test = scaler.transform(X_test)"
   ]
  },
  {
   "cell_type": "markdown",
   "metadata": {},
   "source": [
    "## Create and Train model"
   ]
  },
  {
   "cell_type": "code",
   "execution_count": 5,
   "metadata": {},
   "outputs": [
    {
     "name": "stdout",
     "output_type": "stream",
     "text": [
      "Grid Search scores:\n",
      "\n",
      "0.974 (+/-0.021) for {'C': 0.01, 'degree': 1, 'gamma': 'auto', 'kernel': 'linear'}\n",
      "0.941 (+/-0.027) for {'C': 0.01, 'degree': 1, 'gamma': 'auto', 'kernel': 'poly'}\n",
      "0.924 (+/-0.019) for {'C': 0.01, 'degree': 1, 'gamma': 'auto', 'kernel': 'rbf'}\n",
      "0.907 (+/-0.029) for {'C': 0.01, 'degree': 1, 'gamma': 'auto', 'kernel': 'sigmoid'}\n",
      "0.974 (+/-0.021) for {'C': 0.01, 'degree': 1, 'gamma': 'scale', 'kernel': 'linear'}\n",
      "0.941 (+/-0.027) for {'C': 0.01, 'degree': 1, 'gamma': 'scale', 'kernel': 'poly'}\n",
      "0.923 (+/-0.021) for {'C': 0.01, 'degree': 1, 'gamma': 'scale', 'kernel': 'rbf'}\n",
      "0.907 (+/-0.029) for {'C': 0.01, 'degree': 1, 'gamma': 'scale', 'kernel': 'sigmoid'}\n",
      "0.974 (+/-0.021) for {'C': 0.01, 'degree': 2, 'gamma': 'auto', 'kernel': 'linear'}\n",
      "0.582 (+/-0.018) for {'C': 0.01, 'degree': 2, 'gamma': 'auto', 'kernel': 'poly'}\n",
      "0.924 (+/-0.019) for {'C': 0.01, 'degree': 2, 'gamma': 'auto', 'kernel': 'rbf'}\n",
      "0.907 (+/-0.029) for {'C': 0.01, 'degree': 2, 'gamma': 'auto', 'kernel': 'sigmoid'}\n",
      "0.974 (+/-0.021) for {'C': 0.01, 'degree': 2, 'gamma': 'scale', 'kernel': 'linear'}\n",
      "0.582 (+/-0.018) for {'C': 0.01, 'degree': 2, 'gamma': 'scale', 'kernel': 'poly'}\n",
      "0.923 (+/-0.021) for {'C': 0.01, 'degree': 2, 'gamma': 'scale', 'kernel': 'rbf'}\n",
      "0.907 (+/-0.029) for {'C': 0.01, 'degree': 2, 'gamma': 'scale', 'kernel': 'sigmoid'}\n",
      "0.974 (+/-0.021) for {'C': 0.01, 'degree': 3, 'gamma': 'auto', 'kernel': 'linear'}\n",
      "0.715 (+/-0.023) for {'C': 0.01, 'degree': 3, 'gamma': 'auto', 'kernel': 'poly'}\n",
      "0.924 (+/-0.019) for {'C': 0.01, 'degree': 3, 'gamma': 'auto', 'kernel': 'rbf'}\n",
      "0.907 (+/-0.029) for {'C': 0.01, 'degree': 3, 'gamma': 'auto', 'kernel': 'sigmoid'}\n",
      "0.974 (+/-0.021) for {'C': 0.01, 'degree': 3, 'gamma': 'scale', 'kernel': 'linear'}\n",
      "0.714 (+/-0.025) for {'C': 0.01, 'degree': 3, 'gamma': 'scale', 'kernel': 'poly'}\n",
      "0.923 (+/-0.021) for {'C': 0.01, 'degree': 3, 'gamma': 'scale', 'kernel': 'rbf'}\n",
      "0.907 (+/-0.029) for {'C': 0.01, 'degree': 3, 'gamma': 'scale', 'kernel': 'sigmoid'}\n",
      "0.974 (+/-0.021) for {'C': 0.01, 'degree': 4, 'gamma': 'auto', 'kernel': 'linear'}\n",
      "0.649 (+/-0.028) for {'C': 0.01, 'degree': 4, 'gamma': 'auto', 'kernel': 'poly'}\n",
      "0.924 (+/-0.019) for {'C': 0.01, 'degree': 4, 'gamma': 'auto', 'kernel': 'rbf'}\n",
      "0.907 (+/-0.029) for {'C': 0.01, 'degree': 4, 'gamma': 'auto', 'kernel': 'sigmoid'}\n",
      "0.974 (+/-0.021) for {'C': 0.01, 'degree': 4, 'gamma': 'scale', 'kernel': 'linear'}\n",
      "0.649 (+/-0.028) for {'C': 0.01, 'degree': 4, 'gamma': 'scale', 'kernel': 'poly'}\n",
      "0.923 (+/-0.021) for {'C': 0.01, 'degree': 4, 'gamma': 'scale', 'kernel': 'rbf'}\n",
      "0.907 (+/-0.029) for {'C': 0.01, 'degree': 4, 'gamma': 'scale', 'kernel': 'sigmoid'}\n",
      "0.980 (+/-0.016) for {'C': 0.1, 'degree': 1, 'gamma': 'auto', 'kernel': 'linear'}\n",
      "0.978 (+/-0.018) for {'C': 0.1, 'degree': 1, 'gamma': 'auto', 'kernel': 'poly'}\n",
      "0.988 (+/-0.018) for {'C': 0.1, 'degree': 1, 'gamma': 'auto', 'kernel': 'rbf'}\n",
      "0.854 (+/-0.029) for {'C': 0.1, 'degree': 1, 'gamma': 'auto', 'kernel': 'sigmoid'}\n",
      "0.980 (+/-0.016) for {'C': 0.1, 'degree': 1, 'gamma': 'scale', 'kernel': 'linear'}\n",
      "0.978 (+/-0.018) for {'C': 0.1, 'degree': 1, 'gamma': 'scale', 'kernel': 'poly'}\n",
      "0.988 (+/-0.018) for {'C': 0.1, 'degree': 1, 'gamma': 'scale', 'kernel': 'rbf'}\n",
      "0.856 (+/-0.027) for {'C': 0.1, 'degree': 1, 'gamma': 'scale', 'kernel': 'sigmoid'}\n",
      "0.980 (+/-0.016) for {'C': 0.1, 'degree': 2, 'gamma': 'auto', 'kernel': 'linear'}\n",
      "0.603 (+/-0.035) for {'C': 0.1, 'degree': 2, 'gamma': 'auto', 'kernel': 'poly'}\n",
      "0.988 (+/-0.018) for {'C': 0.1, 'degree': 2, 'gamma': 'auto', 'kernel': 'rbf'}\n",
      "0.854 (+/-0.029) for {'C': 0.1, 'degree': 2, 'gamma': 'auto', 'kernel': 'sigmoid'}\n",
      "0.980 (+/-0.016) for {'C': 0.1, 'degree': 2, 'gamma': 'scale', 'kernel': 'linear'}\n",
      "0.603 (+/-0.035) for {'C': 0.1, 'degree': 2, 'gamma': 'scale', 'kernel': 'poly'}\n",
      "0.988 (+/-0.018) for {'C': 0.1, 'degree': 2, 'gamma': 'scale', 'kernel': 'rbf'}\n",
      "0.856 (+/-0.027) for {'C': 0.1, 'degree': 2, 'gamma': 'scale', 'kernel': 'sigmoid'}\n",
      "0.980 (+/-0.016) for {'C': 0.1, 'degree': 3, 'gamma': 'auto', 'kernel': 'linear'}\n",
      "0.932 (+/-0.045) for {'C': 0.1, 'degree': 3, 'gamma': 'auto', 'kernel': 'poly'}\n",
      "0.988 (+/-0.018) for {'C': 0.1, 'degree': 3, 'gamma': 'auto', 'kernel': 'rbf'}\n",
      "0.854 (+/-0.029) for {'C': 0.1, 'degree': 3, 'gamma': 'auto', 'kernel': 'sigmoid'}\n",
      "0.980 (+/-0.016) for {'C': 0.1, 'degree': 3, 'gamma': 'scale', 'kernel': 'linear'}\n",
      "0.933 (+/-0.033) for {'C': 0.1, 'degree': 3, 'gamma': 'scale', 'kernel': 'poly'}\n",
      "0.988 (+/-0.018) for {'C': 0.1, 'degree': 3, 'gamma': 'scale', 'kernel': 'rbf'}\n",
      "0.856 (+/-0.027) for {'C': 0.1, 'degree': 3, 'gamma': 'scale', 'kernel': 'sigmoid'}\n",
      "0.980 (+/-0.016) for {'C': 0.1, 'degree': 4, 'gamma': 'auto', 'kernel': 'linear'}\n",
      "0.680 (+/-0.024) for {'C': 0.1, 'degree': 4, 'gamma': 'auto', 'kernel': 'poly'}\n",
      "0.988 (+/-0.018) for {'C': 0.1, 'degree': 4, 'gamma': 'auto', 'kernel': 'rbf'}\n",
      "0.854 (+/-0.029) for {'C': 0.1, 'degree': 4, 'gamma': 'auto', 'kernel': 'sigmoid'}\n",
      "0.980 (+/-0.016) for {'C': 0.1, 'degree': 4, 'gamma': 'scale', 'kernel': 'linear'}\n",
      "0.680 (+/-0.024) for {'C': 0.1, 'degree': 4, 'gamma': 'scale', 'kernel': 'poly'}\n",
      "0.988 (+/-0.018) for {'C': 0.1, 'degree': 4, 'gamma': 'scale', 'kernel': 'rbf'}\n",
      "0.856 (+/-0.027) for {'C': 0.1, 'degree': 4, 'gamma': 'scale', 'kernel': 'sigmoid'}\n",
      "0.984 (+/-0.017) for {'C': 1.0, 'degree': 1, 'gamma': 'auto', 'kernel': 'linear'}\n",
      "0.982 (+/-0.019) for {'C': 1.0, 'degree': 1, 'gamma': 'auto', 'kernel': 'poly'}\n",
      "1.000 (+/-0.000) for {'C': 1.0, 'degree': 1, 'gamma': 'auto', 'kernel': 'rbf'}\n",
      "0.785 (+/-0.050) for {'C': 1.0, 'degree': 1, 'gamma': 'auto', 'kernel': 'sigmoid'}\n",
      "0.984 (+/-0.017) for {'C': 1.0, 'degree': 1, 'gamma': 'scale', 'kernel': 'linear'}\n",
      "0.982 (+/-0.019) for {'C': 1.0, 'degree': 1, 'gamma': 'scale', 'kernel': 'poly'}\n",
      "1.000 (+/-0.000) for {'C': 1.0, 'degree': 1, 'gamma': 'scale', 'kernel': 'rbf'}\n",
      "0.785 (+/-0.046) for {'C': 1.0, 'degree': 1, 'gamma': 'scale', 'kernel': 'sigmoid'}\n",
      "0.984 (+/-0.017) for {'C': 1.0, 'degree': 2, 'gamma': 'auto', 'kernel': 'linear'}\n",
      "0.762 (+/-0.025) for {'C': 1.0, 'degree': 2, 'gamma': 'auto', 'kernel': 'poly'}\n",
      "1.000 (+/-0.000) for {'C': 1.0, 'degree': 2, 'gamma': 'auto', 'kernel': 'rbf'}\n",
      "0.785 (+/-0.050) for {'C': 1.0, 'degree': 2, 'gamma': 'auto', 'kernel': 'sigmoid'}\n",
      "0.984 (+/-0.017) for {'C': 1.0, 'degree': 2, 'gamma': 'scale', 'kernel': 'linear'}\n",
      "0.760 (+/-0.021) for {'C': 1.0, 'degree': 2, 'gamma': 'scale', 'kernel': 'poly'}\n",
      "1.000 (+/-0.000) for {'C': 1.0, 'degree': 2, 'gamma': 'scale', 'kernel': 'rbf'}\n",
      "0.785 (+/-0.046) for {'C': 1.0, 'degree': 2, 'gamma': 'scale', 'kernel': 'sigmoid'}\n",
      "0.984 (+/-0.017) for {'C': 1.0, 'degree': 3, 'gamma': 'auto', 'kernel': 'linear'}\n",
      "0.986 (+/-0.021) for {'C': 1.0, 'degree': 3, 'gamma': 'auto', 'kernel': 'poly'}\n",
      "1.000 (+/-0.000) for {'C': 1.0, 'degree': 3, 'gamma': 'auto', 'kernel': 'rbf'}\n",
      "0.785 (+/-0.050) for {'C': 1.0, 'degree': 3, 'gamma': 'auto', 'kernel': 'sigmoid'}\n",
      "0.984 (+/-0.017) for {'C': 1.0, 'degree': 3, 'gamma': 'scale', 'kernel': 'linear'}\n",
      "0.986 (+/-0.021) for {'C': 1.0, 'degree': 3, 'gamma': 'scale', 'kernel': 'poly'}\n",
      "1.000 (+/-0.000) for {'C': 1.0, 'degree': 3, 'gamma': 'scale', 'kernel': 'rbf'}\n",
      "0.785 (+/-0.046) for {'C': 1.0, 'degree': 3, 'gamma': 'scale', 'kernel': 'sigmoid'}\n",
      "0.984 (+/-0.017) for {'C': 1.0, 'degree': 4, 'gamma': 'auto', 'kernel': 'linear'}\n",
      "0.768 (+/-0.036) for {'C': 1.0, 'degree': 4, 'gamma': 'auto', 'kernel': 'poly'}\n",
      "1.000 (+/-0.000) for {'C': 1.0, 'degree': 4, 'gamma': 'auto', 'kernel': 'rbf'}\n",
      "0.785 (+/-0.050) for {'C': 1.0, 'degree': 4, 'gamma': 'auto', 'kernel': 'sigmoid'}\n",
      "0.984 (+/-0.017) for {'C': 1.0, 'degree': 4, 'gamma': 'scale', 'kernel': 'linear'}\n",
      "0.764 (+/-0.034) for {'C': 1.0, 'degree': 4, 'gamma': 'scale', 'kernel': 'poly'}\n",
      "1.000 (+/-0.000) for {'C': 1.0, 'degree': 4, 'gamma': 'scale', 'kernel': 'rbf'}\n",
      "0.785 (+/-0.046) for {'C': 1.0, 'degree': 4, 'gamma': 'scale', 'kernel': 'sigmoid'}\n",
      "0.988 (+/-0.016) for {'C': 10, 'degree': 1, 'gamma': 'auto', 'kernel': 'linear'}\n",
      "0.985 (+/-0.017) for {'C': 10, 'degree': 1, 'gamma': 'auto', 'kernel': 'poly'}\n",
      "1.000 (+/-0.000) for {'C': 10, 'degree': 1, 'gamma': 'auto', 'kernel': 'rbf'}\n",
      "0.763 (+/-0.057) for {'C': 10, 'degree': 1, 'gamma': 'auto', 'kernel': 'sigmoid'}\n",
      "0.988 (+/-0.016) for {'C': 10, 'degree': 1, 'gamma': 'scale', 'kernel': 'linear'}\n",
      "0.985 (+/-0.016) for {'C': 10, 'degree': 1, 'gamma': 'scale', 'kernel': 'poly'}\n",
      "1.000 (+/-0.000) for {'C': 10, 'degree': 1, 'gamma': 'scale', 'kernel': 'rbf'}\n",
      "0.763 (+/-0.063) for {'C': 10, 'degree': 1, 'gamma': 'scale', 'kernel': 'sigmoid'}\n",
      "0.988 (+/-0.016) for {'C': 10, 'degree': 2, 'gamma': 'auto', 'kernel': 'linear'}\n",
      "0.796 (+/-0.025) for {'C': 10, 'degree': 2, 'gamma': 'auto', 'kernel': 'poly'}\n",
      "1.000 (+/-0.000) for {'C': 10, 'degree': 2, 'gamma': 'auto', 'kernel': 'rbf'}\n",
      "0.763 (+/-0.057) for {'C': 10, 'degree': 2, 'gamma': 'auto', 'kernel': 'sigmoid'}\n",
      "0.988 (+/-0.016) for {'C': 10, 'degree': 2, 'gamma': 'scale', 'kernel': 'linear'}\n",
      "0.795 (+/-0.027) for {'C': 10, 'degree': 2, 'gamma': 'scale', 'kernel': 'poly'}\n",
      "1.000 (+/-0.000) for {'C': 10, 'degree': 2, 'gamma': 'scale', 'kernel': 'rbf'}\n",
      "0.763 (+/-0.063) for {'C': 10, 'degree': 2, 'gamma': 'scale', 'kernel': 'sigmoid'}\n",
      "0.988 (+/-0.016) for {'C': 10, 'degree': 3, 'gamma': 'auto', 'kernel': 'linear'}\n",
      "0.988 (+/-0.014) for {'C': 10, 'degree': 3, 'gamma': 'auto', 'kernel': 'poly'}\n",
      "1.000 (+/-0.000) for {'C': 10, 'degree': 3, 'gamma': 'auto', 'kernel': 'rbf'}\n",
      "0.763 (+/-0.057) for {'C': 10, 'degree': 3, 'gamma': 'auto', 'kernel': 'sigmoid'}\n",
      "0.988 (+/-0.016) for {'C': 10, 'degree': 3, 'gamma': 'scale', 'kernel': 'linear'}\n",
      "0.988 (+/-0.014) for {'C': 10, 'degree': 3, 'gamma': 'scale', 'kernel': 'poly'}\n",
      "1.000 (+/-0.000) for {'C': 10, 'degree': 3, 'gamma': 'scale', 'kernel': 'rbf'}\n",
      "0.763 (+/-0.063) for {'C': 10, 'degree': 3, 'gamma': 'scale', 'kernel': 'sigmoid'}\n",
      "0.988 (+/-0.016) for {'C': 10, 'degree': 4, 'gamma': 'auto', 'kernel': 'linear'}\n",
      "0.863 (+/-0.019) for {'C': 10, 'degree': 4, 'gamma': 'auto', 'kernel': 'poly'}\n",
      "1.000 (+/-0.000) for {'C': 10, 'degree': 4, 'gamma': 'auto', 'kernel': 'rbf'}\n",
      "0.763 (+/-0.057) for {'C': 10, 'degree': 4, 'gamma': 'auto', 'kernel': 'sigmoid'}\n",
      "0.988 (+/-0.016) for {'C': 10, 'degree': 4, 'gamma': 'scale', 'kernel': 'linear'}\n",
      "0.862 (+/-0.017) for {'C': 10, 'degree': 4, 'gamma': 'scale', 'kernel': 'poly'}\n",
      "1.000 (+/-0.000) for {'C': 10, 'degree': 4, 'gamma': 'scale', 'kernel': 'rbf'}\n",
      "0.763 (+/-0.063) for {'C': 10, 'degree': 4, 'gamma': 'scale', 'kernel': 'sigmoid'}\n",
      "\n",
      "Best parameters:\n",
      " {'C': 1.0, 'degree': 1, 'gamma': 'auto', 'kernel': 'rbf'}\n",
      "\n",
      "Training accuracy: 100.0 %\n"
     ]
    }
   ],
   "source": [
    "from sklearn.svm import SVC\n",
    "from sklearn.model_selection import GridSearchCV\n",
    "\n",
    "classifier = SVC(random_state=0)\n",
    "\n",
    "grid_params = {\n",
    "    'C': [0.01, 0.1, 1.0, 10],\n",
    "    'kernel': ['linear', 'poly', 'rbf', 'sigmoid'],\n",
    "    'degree': [1, 2, 3, 4],  # for 'poly' kernel\n",
    "    'gamma': ['auto', 'scale'] # for 'poly' kernel\n",
    "}\n",
    "\n",
    "grid_search = GridSearchCV(\n",
    "    estimator=classifier,\n",
    "    param_grid=grid_params,\n",
    "    scoring='accuracy',\n",
    "    cv=5, # number of folds\n",
    "    n_jobs=-1 # all available computing power\n",
    ")\n",
    "\n",
    "grid_search.fit(X_train, y_train)\n",
    "\n",
    "means = grid_search.cv_results_['mean_test_score']\n",
    "stds = grid_search.cv_results_['std_test_score']\n",
    "\n",
    "print('Grid Search scores:\\n')\n",
    "for mean, std, params in zip(means, stds, grid_search.cv_results_['params']):\n",
    "    print('%0.3f (+/-%0.03f) for %r' % (mean, std * 2, params))\n",
    "\n",
    "model = grid_search.best_estimator_\n",
    "\n",
    "best_parameters = grid_search.best_params_\n",
    "print('\\nBest parameters:\\n', best_parameters)\n",
    "\n",
    "best_result = grid_search.best_score_\n",
    "print('\\nTraining accuracy:', best_result*100,'%')"
   ]
  },
  {
   "cell_type": "markdown",
   "metadata": {},
   "source": [
    "## Evaluate the model"
   ]
  },
  {
   "cell_type": "code",
   "execution_count": 6,
   "metadata": {},
   "outputs": [
    {
     "name": "stdout",
     "output_type": "stream",
     "text": [
      "Test Accuracy: 100.0 %\n",
      "\n",
      "Confusion matrix:\n",
      " [[157   0]\n",
      " [  0 118]]\n",
      "\n",
      "Classification report:\n",
      "               precision    recall  f1-score   support\n",
      "\n",
      "           0       1.00      1.00      1.00       157\n",
      "           1       1.00      1.00      1.00       118\n",
      "\n",
      "    accuracy                           1.00       275\n",
      "   macro avg       1.00      1.00      1.00       275\n",
      "weighted avg       1.00      1.00      1.00       275\n",
      "\n"
     ]
    }
   ],
   "source": [
    "from sklearn.metrics import classification_report, confusion_matrix, accuracy_score\n",
    "\n",
    "y_pred = model.predict(X_test)\n",
    "\n",
    "acc = accuracy_score(y_test, y_pred)*100\n",
    "print('Test Accuracy:', acc,'%')\n",
    "\n",
    "cm = confusion_matrix(y_test,y_pred)\n",
    "print('\\nConfusion matrix:\\n', cm)\n",
    "\n",
    "cr = classification_report(y_test,y_pred)\n",
    "print('\\nClassification report:\\n', cr)"
   ]
  }
 ],
 "metadata": {
  "kernelspec": {
   "display_name": "Python 3",
   "language": "python",
   "name": "python3"
  },
  "language_info": {
   "codemirror_mode": {
    "name": "ipython",
    "version": 3
   },
   "file_extension": ".py",
   "mimetype": "text/x-python",
   "name": "python",
   "nbconvert_exporter": "python",
   "pygments_lexer": "ipython3",
   "version": "3.7.0"
  }
 },
 "nbformat": 4,
 "nbformat_minor": 2
}
